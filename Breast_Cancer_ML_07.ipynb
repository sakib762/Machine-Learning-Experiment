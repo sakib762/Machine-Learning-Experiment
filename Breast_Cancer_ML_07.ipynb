{
  "nbformat": 4,
  "nbformat_minor": 0,
  "metadata": {
    "colab": {
      "private_outputs": true,
      "provenance": [],
      "authorship_tag": "ABX9TyMb8sw6N6vlBXmS3Lzh7i2N",
      "include_colab_link": true
    },
    "kernelspec": {
      "name": "python3",
      "display_name": "Python 3"
    },
    "language_info": {
      "name": "python"
    }
  },
  "cells": [
    {
      "cell_type": "markdown",
      "metadata": {
        "id": "view-in-github",
        "colab_type": "text"
      },
      "source": [
        "<a href=\"https://colab.research.google.com/github/sakib762/Machine-Learning-Experiment/blob/main/Breast_Cancer_ML_07.ipynb\" target=\"_parent\"><img src=\"https://colab.research.google.com/assets/colab-badge.svg\" alt=\"Open In Colab\"/></a>"
      ]
    },
    {
      "cell_type": "markdown",
      "source": [
        "# About Dataset\n",
        "\n",
        "**Description:**\n",
        "\n",
        "Breast cancer is the most common cancer amongst women in the world. It accounts for 25% of all cancer cases, and affected over 2.1 Million people in 2015 alone. It starts when cells in the breast begin to grow out of control. These cells usually form tumors that can be seen via X-ray or felt as lumps in the breast area.\n",
        "\n",
        "The key challenges against it’s detection is how to classify tumors into malignant (cancerous) or benign(non cancerous). We ask you to complete the analysis of classifying these tumors using machine learning (with SVMs) and the Breast Cancer Wisconsin (Diagnostic) Dataset.\n",
        "\n"
      ],
      "metadata": {
        "id": "DrERrL47F1Ku"
      }
    },
    {
      "cell_type": "markdown",
      "source": [
        "# Importing Dependencies"
      ],
      "metadata": {
        "id": "lfJjkYD5GwNk"
      }
    },
    {
      "cell_type": "code",
      "execution_count": null,
      "metadata": {
        "id": "bWKTuEv9DFyK"
      },
      "outputs": [],
      "source": [
        "#importing dependency\n",
        "import pandas as pd\n",
        "import numpy as np\n",
        "from sklearn.preprocessing import StandardScaler\n",
        "from sklearn.model_selection import train_test_split\n",
        "from sklearn.linear_model import LogisticRegression\n",
        "from sklearn.metrics import accuracy_score"
      ]
    },
    {
      "cell_type": "markdown",
      "source": [
        "# Data Collection"
      ],
      "metadata": {
        "id": "CYL4aMAZHmDr"
      }
    },
    {
      "cell_type": "code",
      "source": [
        "#mounting drive\n",
        "from google.colab import drive\n",
        "drive.mount('/content/drive')"
      ],
      "metadata": {
        "id": "zE9oT5O5Dal7"
      },
      "execution_count": null,
      "outputs": []
    },
    {
      "cell_type": "code",
      "source": [
        "#reading csv file\n",
        "df = pd.read_csv(\"/content/drive/MyDrive/database/ML Project Database/data.csv\")\n",
        "df"
      ],
      "metadata": {
        "id": "0dGkYVJlEJXs"
      },
      "execution_count": null,
      "outputs": []
    },
    {
      "cell_type": "markdown",
      "source": [
        "# Data Analysing"
      ],
      "metadata": {
        "id": "fNh2gSBQJc_H"
      }
    },
    {
      "cell_type": "code",
      "source": [
        "#data info\n",
        "df.info()"
      ],
      "metadata": {
        "id": "f2zg3COyJiOl"
      },
      "execution_count": null,
      "outputs": []
    },
    {
      "cell_type": "code",
      "source": [
        "#statistics value\n",
        "df.describe()"
      ],
      "metadata": {
        "id": "k9dF6oJXJqTz"
      },
      "execution_count": null,
      "outputs": []
    },
    {
      "cell_type": "code",
      "source": [
        "#looking for missing value\n",
        "df.isnull().sum()"
      ],
      "metadata": {
        "id": "TPUagNvgJ5q-"
      },
      "execution_count": null,
      "outputs": []
    },
    {
      "cell_type": "code",
      "source": [
        "#droping unneccesary column\n",
        "df = df.drop(['Unnamed: 32','id'],axis=1)"
      ],
      "metadata": {
        "id": "vdiL_f92KCJg"
      },
      "execution_count": null,
      "outputs": []
    },
    {
      "cell_type": "code",
      "source": [
        "#checking the distribution of target variable\n",
        "df['diagnosis'].value_counts()"
      ],
      "metadata": {
        "id": "LUA7NGGkKIJ2"
      },
      "execution_count": null,
      "outputs": []
    },
    {
      "cell_type": "code",
      "source": [
        "df.groupby('diagnosis').mean()\n",
        "#"
      ],
      "metadata": {
        "id": "9eKfOK4DKc5w"
      },
      "execution_count": null,
      "outputs": []
    },
    {
      "cell_type": "code",
      "source": [
        "#changing diagnosis colummns value to numeric\n",
        "df['diagnosis'] = df['diagnosis'].map({'M':0,'B':1})"
      ],
      "metadata": {
        "id": "gp9tJQblLJXM"
      },
      "execution_count": null,
      "outputs": []
    },
    {
      "cell_type": "markdown",
      "source": [
        "# Data Visualization"
      ],
      "metadata": {
        "id": "9Yws9hffMHMi"
      }
    },
    {
      "cell_type": "code",
      "source": [
        "import matplotlib.pyplot as plt\n",
        "import seaborn as sns\n",
        "# Pairplot to visualize relationships between features\n",
        "sns.pairplot(df, hue='diagnosis', vars=['radius_mean', 'texture_mean', 'perimeter_mean', 'area_mean', 'smoothness_mean'])\n",
        "plt.show()"
      ],
      "metadata": {
        "id": "v7swCw-DLw-Q"
      },
      "execution_count": null,
      "outputs": []
    },
    {
      "cell_type": "code",
      "source": [
        "\n",
        "# Correlation heatmap\n",
        "plt.figure(figsize=(20,20))\n",
        "sns.heatmap(df.corr(), annot=True, fmt=\".0%\")\n",
        "plt.show()"
      ],
      "metadata": {
        "id": "nbDLtWaaL3T8"
      },
      "execution_count": null,
      "outputs": []
    },
    {
      "cell_type": "code",
      "source": [
        "\n",
        "# Countplot for diagnosis distribution\n",
        "plt.figure(figsize=(6, 4))\n",
        "sns.countplot(x='diagnosis', data=df)\n",
        "plt.title('Distribution of Diagnosis')\n",
        "plt.show()"
      ],
      "metadata": {
        "id": "xpWqcO_EL7hO"
      },
      "execution_count": null,
      "outputs": []
    },
    {
      "cell_type": "code",
      "source": [
        "\n",
        "# Box plots for selected features\n",
        "features = ['radius_mean', 'texture_mean', 'perimeter_mean', 'area_mean']\n",
        "for feature in features:\n",
        "    plt.figure(figsize=(6, 4))\n",
        "    sns.boxplot(x='diagnosis', y=feature, data=df)\n",
        "    plt.title(f'Box Plot of {feature} vs. Diagnosis')\n",
        "    plt.show()\n"
      ],
      "metadata": {
        "id": "xIJ-NXV4Lb2x"
      },
      "execution_count": null,
      "outputs": []
    },
    {
      "cell_type": "markdown",
      "source": [
        "# Data Spliting"
      ],
      "metadata": {
        "id": "uJxM0Nw1Mnz8"
      }
    },
    {
      "cell_type": "code",
      "source": [
        "#data spliting\n",
        "X = df.drop(['diagnosis'],axis=1)\n",
        "Y = df['diagnosis']"
      ],
      "metadata": {
        "id": "dxykrIbVMlXd"
      },
      "execution_count": null,
      "outputs": []
    },
    {
      "cell_type": "code",
      "source": [
        "#train test split\n",
        "X_train,X_test,Y_train,Y_test = train_test_split(X,Y,test_size=0.2,random_state=2)\n",
        "print(X_train.shape,X_test.shape,Y_train.shape,Y_test.shape)"
      ],
      "metadata": {
        "id": "yNjedJwrM0fH"
      },
      "execution_count": null,
      "outputs": []
    },
    {
      "cell_type": "markdown",
      "source": [
        "# Model Training"
      ],
      "metadata": {
        "id": "y48er3j3NHan"
      }
    },
    {
      "cell_type": "code",
      "source": [
        "#training model\n",
        "model = LogisticRegression()\n",
        "model.fit(X_train,Y_train)"
      ],
      "metadata": {
        "id": "kl59db0kM_7G"
      },
      "execution_count": null,
      "outputs": []
    },
    {
      "cell_type": "markdown",
      "source": [
        "# Model Evaluation"
      ],
      "metadata": {
        "id": "X8gkZDGzNak3"
      }
    },
    {
      "cell_type": "code",
      "source": [
        "#accuracy score\n",
        "X_train_prediction = model.predict(X_train)\n",
        "training_data_accuracy = accuracy_score(Y_train,X_train_prediction)\n",
        "print(\"Accuracy on training data : \",training_data_accuracy)"
      ],
      "metadata": {
        "id": "8k5-G8LWNSeE"
      },
      "execution_count": null,
      "outputs": []
    },
    {
      "cell_type": "code",
      "source": [
        "#accuracy on test data\n",
        "X_test_prediction = model.predict(X_test)\n",
        "test_data_accuracy = accuracy_score(Y_test,X_test_prediction)\n",
        "print(\"Accuracy on test data : \",test_data_accuracy)\n"
      ],
      "metadata": {
        "id": "HzLKg9WONi1-"
      },
      "execution_count": null,
      "outputs": []
    },
    {
      "cell_type": "markdown",
      "source": [
        "# Building a Predictive System"
      ],
      "metadata": {
        "id": "JQn8C3g5OO9X"
      }
    },
    {
      "cell_type": "code",
      "source": [
        "#bulding predictive system\n",
        "input_data = (20.57,\n",
        "17.77,\n",
        "132.9,\n",
        "1326,\n",
        "0.08474,\n",
        "0.07864,\n",
        "0.0869,\n",
        "0.07017,\n",
        "0.1812,\n",
        "0.05667,\n",
        "0.5435,\n",
        "0.7339,\n",
        "3.398,\n",
        "74.08,\n",
        "0.005225,\n",
        "0.01308,\n",
        "0.0186,\n",
        "0.0134,\n",
        "0.01389,\n",
        "0.003532,\n",
        "24.99,\n",
        "23.41,\n",
        "158.8,\n",
        "1956,\n",
        "0.1238,\n",
        "0.1866,\n",
        "0.2416,\n",
        "0.186,\n",
        "0.275,\n",
        "0.08902)\n",
        "\n",
        "input_data_as_numpy_array = np.asarray(input_data)\n",
        "input_data_reshaped = input_data_as_numpy_array.reshape(1,-1)\n",
        "prediction = model.predict(input_data_reshaped)\n",
        "print(prediction)\n"
      ],
      "metadata": {
        "id": "n7ZfFKAPOEvl"
      },
      "execution_count": null,
      "outputs": []
    }
  ]
}