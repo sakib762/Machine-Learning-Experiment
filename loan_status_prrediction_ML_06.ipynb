{
  "nbformat": 4,
  "nbformat_minor": 0,
  "metadata": {
    "colab": {
      "private_outputs": true,
      "provenance": [],
      "authorship_tag": "ABX9TyN+8OJHY/+uxBlvjS9+TyDC",
      "include_colab_link": true
    },
    "kernelspec": {
      "name": "python3",
      "display_name": "Python 3"
    },
    "language_info": {
      "name": "python"
    }
  },
  "cells": [
    {
      "cell_type": "markdown",
      "metadata": {
        "id": "view-in-github",
        "colab_type": "text"
      },
      "source": [
        "<a href=\"https://colab.research.google.com/github/sakib762/Machine-Learning-Experiment/blob/main/loan_status_prrediction_ML_06.ipynb\" target=\"_parent\"><img src=\"https://colab.research.google.com/assets/colab-badge.svg\" alt=\"Open In Colab\"/></a>"
      ]
    },
    {
      "cell_type": "markdown",
      "source": [
        "# Overview of The Dataset:\n",
        "\n",
        "The dataset comprises 614 rows and 13 columns.  The columns include: `Loan_ID`, `Gender`, `Married`, `Dependents`, `Education`, `Self_Employed`, `ApplicantIncome`, `CoapplicantIncome`, `LoanAmount`, `Loan_Amount_Term`, `Credit_History`, `Property_Area`, and `Loan_Status`.\n",
        "\n",
        "These columns have varying data types, including object (categorical), int64 (integer), and float64 (floating-point).\n",
        "\n",
        "There are missing values in several columns:\n",
        "  *   `Gender`: 13 missing values\n",
        "  *   `Married`: 3 missing values\n",
        "  *   `Dependents`: 15 missing values\n",
        "  *   `Self_Employed`: 32 missing values\n",
        "  *   `LoanAmount`: 22 missing values\n",
        "  *   `Loan_Amount_Term`: 14 missing values\n",
        "  *   `Credit_History`: 50 missing values\n",
        "\n",
        "The number of unique values varies across columns. For example, `Loan_ID` has 614 unique values, while `Gender` has 2, and `Property_Area` has 3. `ApplicantIncome` has 505 unique values, `CoapplicantIncome` has 287, and `LoanAmount` has 203.\n",
        ""
      ],
      "metadata": {
        "id": "mffTVSSKBJUi"
      }
    },
    {
      "cell_type": "markdown",
      "source": [
        "# Importing Dependencies"
      ],
      "metadata": {
        "id": "LcajlR4l_11F"
      }
    },
    {
      "cell_type": "code",
      "execution_count": null,
      "metadata": {
        "id": "D4qw_MA4-yXA"
      },
      "outputs": [],
      "source": [
        "#importing dependencies\n",
        "import numpy as np\n",
        "import pandas as pd\n",
        "import matplotlib.pyplot as plt\n",
        "import seaborn as sns\n",
        "from sklearn.model_selection import train_test_split\n",
        "from sklearn import svm\n",
        "from sklearn.metrics import accuracy_score"
      ]
    },
    {
      "cell_type": "markdown",
      "source": [
        "# Data Collection"
      ],
      "metadata": {
        "id": "qaHeGN--BnFD"
      }
    },
    {
      "cell_type": "code",
      "source": [
        "#connnecting drive\n",
        "from google.colab import drive\n",
        "drive.mount('/content/drive')"
      ],
      "metadata": {
        "id": "-wu_SK--BIZ5"
      },
      "execution_count": null,
      "outputs": []
    },
    {
      "cell_type": "code",
      "source": [
        "#reading csv file\n",
        "loan_dataset = pd.read_csv('/content/drive/MyDrive/database/ML Project Database/train_u6lujuX_CVtuZ9i (1).csv')"
      ],
      "metadata": {
        "id": "rtLTq4UxCAFH"
      },
      "execution_count": null,
      "outputs": []
    },
    {
      "cell_type": "markdown",
      "source": [
        "# Data Analysis"
      ],
      "metadata": {
        "id": "omzp-ZpNCS02"
      }
    },
    {
      "cell_type": "code",
      "source": [
        "loan_dataset.head()"
      ],
      "metadata": {
        "id": "nhx88krsCbwj"
      },
      "execution_count": null,
      "outputs": []
    },
    {
      "cell_type": "code",
      "source": [
        "#shape of the dataset\n",
        "loan_dataset.shape"
      ],
      "metadata": {
        "id": "IXk4qbe4Unz4"
      },
      "execution_count": null,
      "outputs": []
    },
    {
      "cell_type": "code",
      "source": [
        "#statistical measure of the dataset\n",
        "loan_dataset.describe()"
      ],
      "metadata": {
        "id": "LACguKNjTXTP"
      },
      "execution_count": null,
      "outputs": []
    },
    {
      "cell_type": "code",
      "source": [
        "loan_dataset.info()"
      ],
      "metadata": {
        "id": "m5efLubGTIJF"
      },
      "execution_count": null,
      "outputs": []
    },
    {
      "cell_type": "markdown",
      "source": [
        "**Handling Missing Value**"
      ],
      "metadata": {
        "id": "yhrxdwCSS41H"
      }
    },
    {
      "cell_type": "code",
      "source": [
        "#looiking for missing value in each column\n",
        "loan_dataset.isnull().sum()"
      ],
      "metadata": {
        "id": "bMT34_WsHNVA"
      },
      "execution_count": null,
      "outputs": []
    },
    {
      "cell_type": "code",
      "source": [
        "#unique value in column consisting missing value\n",
        "loan_dataset['Gender'].unique()\n"
      ],
      "metadata": {
        "id": "Vv50OJykT1rS"
      },
      "execution_count": null,
      "outputs": []
    },
    {
      "cell_type": "code",
      "source": [
        "loan_dataset[\"Married\"].unique()\n"
      ],
      "metadata": {
        "id": "tGIXOBdLUaRM"
      },
      "execution_count": null,
      "outputs": []
    },
    {
      "cell_type": "code",
      "source": [
        "#dropping missing vlaues\n",
        "loan_dataset = loan_dataset.dropna()"
      ],
      "metadata": {
        "id": "_jx9H9RyU_qv"
      },
      "execution_count": null,
      "outputs": []
    },
    {
      "cell_type": "code",
      "source": [
        "loan_dataset.isnull().sum()"
      ],
      "metadata": {
        "id": "akGil7XKVZLU"
      },
      "execution_count": null,
      "outputs": []
    },
    {
      "cell_type": "code",
      "source": [
        "loan_dataset.shape"
      ],
      "metadata": {
        "id": "GXE13LyJXXpY"
      },
      "execution_count": null,
      "outputs": []
    },
    {
      "cell_type": "markdown",
      "source": [
        "# Label Encoding"
      ],
      "metadata": {
        "id": "JUMpz75sW47x"
      }
    },
    {
      "cell_type": "code",
      "source": [
        "#label encoding\n",
        "loan_dataset.replace({\"Loan_Status\":{'N':0,'Y':1}},inplace=True)"
      ],
      "metadata": {
        "id": "NCP6Hf6bVhKq"
      },
      "execution_count": null,
      "outputs": []
    },
    {
      "cell_type": "code",
      "source": [
        "#value in dependent\n",
        "loan_dataset['Dependents'].value_counts()"
      ],
      "metadata": {
        "id": "aOv0uvLcXEVp"
      },
      "execution_count": null,
      "outputs": []
    },
    {
      "cell_type": "code",
      "source": [
        "#replacing the value 3+ to 4\n",
        "loan_dataset = loan_dataset.replace(to_replace='3+', value=4)"
      ],
      "metadata": {
        "id": "fXuGUinqXwLe"
      },
      "execution_count": null,
      "outputs": []
    },
    {
      "cell_type": "code",
      "source": [
        "loan_dataset[\"Dependents\"].value_counts()"
      ],
      "metadata": {
        "id": "PmgEsegvX-Sg"
      },
      "execution_count": null,
      "outputs": []
    },
    {
      "cell_type": "markdown",
      "source": [
        "# Data Visualization"
      ],
      "metadata": {
        "id": "TnmfMrILYUyQ"
      }
    },
    {
      "cell_type": "code",
      "source": [
        "#education and loan status\n",
        "sns.countplot(x='Education',hue='Loan_Status',data=loan_dataset)\n"
      ],
      "metadata": {
        "id": "hS4VDl_uYSBb"
      },
      "execution_count": null,
      "outputs": []
    },
    {
      "cell_type": "markdown",
      "source": [
        "Graduate people are more approved for loan then Not Graduate"
      ],
      "metadata": {
        "id": "Lb9IoetfYre2"
      }
    },
    {
      "cell_type": "code",
      "source": [
        "#marrital status and loan status\n",
        "sns.countplot(x='Married',hue='Loan_Status',data=loan_dataset)"
      ],
      "metadata": {
        "id": "CyCCQrc5ZAmd"
      },
      "execution_count": null,
      "outputs": []
    },
    {
      "cell_type": "markdown",
      "source": [
        "Married People's loan approve rate is higher then Non Married"
      ],
      "metadata": {
        "id": "8VsZUeKRZR7u"
      }
    },
    {
      "cell_type": "code",
      "source": [
        "#barplot of self employed and loan status\n",
        "plt.figure(figsize=(10,5))\n",
        "sns.countplot(x='Self_Employed',hue='Loan_Status',data=loan_dataset)"
      ],
      "metadata": {
        "id": "t4Z3EP2zZiJi"
      },
      "execution_count": null,
      "outputs": []
    },
    {
      "cell_type": "markdown",
      "source": [
        "Unemployed people getting more loan approves than employed"
      ],
      "metadata": {
        "id": "6lwbU4xla6u4"
      }
    },
    {
      "cell_type": "code",
      "source": [],
      "metadata": {
        "id": "ulZfQ0nobCN9"
      },
      "execution_count": null,
      "outputs": []
    },
    {
      "source": [
        "import matplotlib.pyplot as plt\n",
        "import pandas as pd\n",
        "import numpy as np\n",
        "\n",
        "# Group data by 'Property_Area', 'Credit_History', and 'Loan_Status' and get counts\n",
        "grouped_data = loan_dataset.groupby(['Property_Area', 'Credit_History', 'Loan_Status'])['Loan_ID'].count().reset_index()\n",
        "\n",
        "# Pivot the data for plotting\n",
        "plot_data = grouped_data.pivot_table(index=['Property_Area', 'Credit_History'],\n",
        "                                   columns='Loan_Status',\n",
        "                                   values='Loan_ID',\n",
        "                                   fill_value=0)  # Fill missing values with 0\n",
        "\n",
        "# Create the stacked bar plot\n",
        "plot_data.plot(kind='bar', stacked=True, figsize=(12, 6))\n",
        "plt.title('Loan Approval Status by Property Area and Credit History')\n",
        "plt.xlabel('Property Area, Credit History')\n",
        "plt.ylabel('Number of Applicants')\n",
        "plt.xticks(rotation=45, ha='right')  # Rotate x-axis labels for readability\n",
        "plt.legend(title='Loan Status')\n",
        "plt.tight_layout()  # Adjust layout to prevent labels from overlapping\n",
        "plt.show()"
      ],
      "cell_type": "code",
      "metadata": {
        "id": "z848pRMpbqpC"
      },
      "execution_count": null,
      "outputs": []
    },
    {
      "cell_type": "markdown",
      "source": [
        "From the Graph we can clearly see that , in every Property area loan approves higher of ! credit scores"
      ],
      "metadata": {
        "id": "42RSCXArcF2P"
      }
    },
    {
      "cell_type": "markdown",
      "source": [
        "# Converting Chategorical Column"
      ],
      "metadata": {
        "id": "vypI_C1Tc66_"
      }
    },
    {
      "cell_type": "code",
      "source": [
        "#converting chategorical column to numerical\n",
        "loan_dataset.replace({'Married':{'No':0,'Yes':1},'Gender':{'Male':1,'Female':0},'Self_Employed':{'No':0,'Yes':1},\n",
        "                      'Property_Area':{'Rural':0,'Semiurban':1,'Urban':2},'Education':{'Graduate':1,'Not Graduate':0}},inplace=True)"
      ],
      "metadata": {
        "id": "f64n_XRmc53p"
      },
      "execution_count": null,
      "outputs": []
    },
    {
      "cell_type": "code",
      "source": [
        "loan_dataset"
      ],
      "metadata": {
        "id": "ShQBr9egcyW-"
      },
      "execution_count": null,
      "outputs": []
    },
    {
      "cell_type": "markdown",
      "source": [
        "# Spliting Dataset"
      ],
      "metadata": {
        "id": "BvNFFAvDdrNN"
      }
    },
    {
      "cell_type": "code",
      "source": [
        "#droping USerid column spliting datset\n",
        "X = loan_dataset.drop(columns=['Loan_ID','Loan_Status'],axis=1)\n",
        "Y = loan_dataset['Loan_Status']\n",
        "#Train Test Split\n",
        "X_train, X_test, Y_train, Y_test = train_test_split(X, Y, test_size=0.1, stratify=Y, random_state=2)\n",
        "print(X.shape, X_train.shape, X_test.shape)\n"
      ],
      "metadata": {
        "id": "DisNShT-dPrp"
      },
      "execution_count": null,
      "outputs": []
    },
    {
      "cell_type": "markdown",
      "source": [
        "# Training The Model\n",
        " **Support Vector Machine Model**"
      ],
      "metadata": {
        "id": "H_t6Mw-uenB3"
      }
    },
    {
      "cell_type": "code",
      "source": [
        "#using svm svc\n",
        "classifier = svm.SVC(kernel='linear')\n",
        "classifier.fit(X_train, Y_train)\n",
        "y_pred = classifier.predict(X_test)"
      ],
      "metadata": {
        "id": "f-OzNHNkemtn"
      },
      "execution_count": null,
      "outputs": []
    },
    {
      "cell_type": "markdown",
      "source": [
        "# Model Evaluation"
      ],
      "metadata": {
        "id": "cDXaCZPVfqbx"
      }
    },
    {
      "cell_type": "code",
      "source": [
        "#accuracy score on trainig data\n",
        "X_train_prediction = classifier.predict(X_train)\n",
        "training_data_accuracy = accuracy_score(X_train_prediction, Y_train)\n",
        "print('Accuracy on Training data : ', training_data_accuracy)"
      ],
      "metadata": {
        "id": "zfldC3xFfQ2u"
      },
      "execution_count": null,
      "outputs": []
    },
    {
      "cell_type": "code",
      "source": [
        "#accuracy on test data\n",
        "X_test_prediction = classifier.predict(X_test)\n",
        "test_data_accuracy = accuracy_score(X_test_prediction, Y_test)\n",
        "print('Accuracy on test data : ', test_data_accuracy)"
      ],
      "metadata": {
        "id": "-hZTlSocf-73"
      },
      "execution_count": null,
      "outputs": []
    },
    {
      "cell_type": "markdown",
      "source": [
        "# Making a Predictive System"
      ],
      "metadata": {
        "id": "_VZ-gYHmg1S2"
      }
    },
    {
      "cell_type": "code",
      "source": [
        "#making a predictive system\n",
        "\n",
        "\n",
        "def get_string_input(prompt):\n",
        "    return input(prompt).strip()\n",
        "\n",
        "def get_integer_input(prompt):\n",
        "    while True:\n",
        "        try:\n",
        "            return int(input(prompt))\n",
        "        except ValueError:\n",
        "            print(\"Invalid input. Please enter an integer.\")\n",
        "\n",
        "def get_float_input(prompt):\n",
        "    while True:\n",
        "        try:\n",
        "            return float(input(prompt))\n",
        "        except ValueError:\n",
        "            print(\"Invalid input. Please enter a float.\")\n",
        "\n",
        "def get_boolean_input(prompt):\n",
        "    while True:\n",
        "        response = input(prompt).strip().lower()\n",
        "        if response in ['male']:\n",
        "            return 0\n",
        "        elif response in ['female']:\n",
        "            return 1\n",
        "        else:\n",
        "            print(\"Invalid input. Please enter 'male' or 'female'.\")\n",
        "\n",
        "#getting various types of input from user\n",
        "gender = get_integer_input(\"Enter Gender (0 for Male, 1 for Female): \")\n",
        "married = get_integer_input(\"Enter Marital Status (0 for No, 1 for Yes): \")\n",
        "dependents = get_integer_input(\"Enter Number of Dependents: \")\n",
        "education = get_integer_input(\"Enter Education Level (0 for Graduate, 1 for Not Graduate): \")\n",
        "self_employed = get_integer_input(\"Enter Employment Status (0 for No, 1 for Yes): \")\n",
        "applicant_income = get_integer_input(\"Enter Applicant's Income: \")\n",
        "coapplicant_income = get_integer_input(\"Enter Co-applicant's Income: \")\n",
        "loan_amount = get_integer_input(\"Enter Loan Amount: \")\n",
        "loan_amount_term = get_integer_input(\"Enter Loan Amount Term: \")\n",
        "credit_history = get_integer_input(\"Enter Credit History (0 for Bad, 1 for Good): \")\n",
        "property_area = get_integer_input(\"Enter Property Area (Rural(0), Semiurban(1), Urban(2)): \")\n",
        "\n",
        "#taking the input data as an array\n",
        "input_data = np.array([gender,married,dependents,education,self_employed,applicant_income,coapplicant_income,loan_amount,loan_amount_term,credit_history,property_area])\n",
        "print(f\"Collection of input array: {input_data}\")\n",
        "\n",
        "#reshaping the array\n",
        "input_data_reshaped = input_data.reshape(1,-1)\n",
        "\n",
        "#Feeding it to model\n",
        "prediction = classifier.predict(input_data_reshaped)\n",
        "print(prediction)\n",
        "\n",
        "if (prediction[0] == 0):\n",
        "  print('The loan is not approved')\n",
        "else:\n",
        "  print('The loan is approved')\n",
        "\n",
        "\n",
        "\n"
      ],
      "metadata": {
        "id": "RrIO9L21g7gY"
      },
      "execution_count": null,
      "outputs": []
    }
  ]
}