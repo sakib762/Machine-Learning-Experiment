{
  "nbformat": 4,
  "nbformat_minor": 0,
  "metadata": {
    "colab": {
      "private_outputs": true,
      "provenance": [],
      "authorship_tag": "ABX9TyPkCGoWH2hGoQguPWHXxkwu",
      "include_colab_link": true
    },
    "kernelspec": {
      "name": "python3",
      "display_name": "Python 3"
    },
    "language_info": {
      "name": "python"
    }
  },
  "cells": [
    {
      "cell_type": "markdown",
      "metadata": {
        "id": "view-in-github",
        "colab_type": "text"
      },
      "source": [
        "<a href=\"https://colab.research.google.com/github/sakib762/Machine-Learning-Experiment/blob/main/Calories_Burnt_Prediction_ML_03.ipynb\" target=\"_parent\"><img src=\"https://colab.research.google.com/assets/colab-badge.svg\" alt=\"Open In Colab\"/></a>"
      ]
    },
    {
      "cell_type": "markdown",
      "source": [
        "# Importing Dependencies\n",
        "\n",
        "importing neccessary dependency for the project."
      ],
      "metadata": {
        "id": "qx8N-ZSeM3mC"
      }
    },
    {
      "cell_type": "code",
      "source": [
        "#import\n",
        "import numpy as np\n",
        "import pandas as pd\n",
        "import matplotlib.pyplot as plt\n",
        "import seaborn as sns\n",
        "import warnings\n",
        "warnings.filterwarnings('ignore')\n",
        "import matplotlib.pyplot as plt\n",
        "from sklearn.model_selection import train_test_split\n",
        "from xgboost import XGBRegressor\n",
        "from sklearn import metrics\n",
        "from sklearn.metrics import accuracy_score\n",
        "from sklearn.metrics import confusion_matrix\n",
        "from sklearn.metrics import classification_report"
      ],
      "metadata": {
        "id": "heLUp_fvNJVG"
      },
      "execution_count": null,
      "outputs": []
    },
    {
      "cell_type": "markdown",
      "source": [
        "# Data Collection and Processing"
      ],
      "metadata": {
        "id": "HvonJB0gNwrK"
      }
    },
    {
      "cell_type": "code",
      "source": [
        "from google.colab import drive\n",
        "drive.mount('/content/drive')"
      ],
      "metadata": {
        "id": "FCitqNu9NIvu"
      },
      "execution_count": null,
      "outputs": []
    },
    {
      "cell_type": "code",
      "source": [
        "#loaing   the data from csv file to pandas dataframe\n",
        "calories = pd.read_csv('/content/drive/MyDrive/database/ML Project Database/calories.csv')"
      ],
      "metadata": {
        "id": "UCYDVZNpN5kW"
      },
      "execution_count": null,
      "outputs": []
    },
    {
      "cell_type": "code",
      "source": [
        "calories"
      ],
      "metadata": {
        "id": "t1rey63KO1rH"
      },
      "execution_count": null,
      "outputs": []
    },
    {
      "cell_type": "code",
      "source": [
        "exercise = pd.read_csv('/content/drive/MyDrive/database/ML Project Database/exercise.csv')"
      ],
      "metadata": {
        "id": "_BMdeStSQdKd"
      },
      "execution_count": null,
      "outputs": []
    },
    {
      "cell_type": "code",
      "source": [
        "exercise.head()"
      ],
      "metadata": {
        "id": "-mpdOJbSQoTW"
      },
      "execution_count": null,
      "outputs": []
    },
    {
      "cell_type": "markdown",
      "source": [
        "# Combinig two dataframes"
      ],
      "metadata": {
        "id": "f2eNir-cRKnZ"
      }
    },
    {
      "cell_type": "code",
      "source": [
        "calories_data = pd.concat([exercise, calories['Calories']], axis=1)"
      ],
      "metadata": {
        "id": "IWUUsfaSQoQV"
      },
      "execution_count": null,
      "outputs": []
    },
    {
      "cell_type": "code",
      "source": [
        "calories_data.head()"
      ],
      "metadata": {
        "id": "4kVrxRfQR7OI"
      },
      "execution_count": null,
      "outputs": []
    },
    {
      "cell_type": "markdown",
      "source": [
        "# Data Analysing"
      ],
      "metadata": {
        "id": "ojPWbJj9SBIX"
      }
    },
    {
      "cell_type": "code",
      "source": [
        "#data shape\n",
        "calories_data.shape"
      ],
      "metadata": {
        "id": "KSURrounSKk4"
      },
      "execution_count": null,
      "outputs": []
    },
    {
      "cell_type": "code",
      "source": [
        "#getting some info about the data\n",
        "calories_data.info()"
      ],
      "metadata": {
        "id": "593mw83cSKiA"
      },
      "execution_count": null,
      "outputs": []
    },
    {
      "cell_type": "code",
      "source": [
        "#checking fro missing value\n",
        "calories_data.isnull().sum()"
      ],
      "metadata": {
        "id": "Zfs2HJIbSldE"
      },
      "execution_count": null,
      "outputs": []
    },
    {
      "cell_type": "code",
      "source": [
        "#getiing some statistical measure abourt data\n",
        "calories_data.describe()"
      ],
      "metadata": {
        "id": "HRJZv78pSw5O"
      },
      "execution_count": null,
      "outputs": []
    },
    {
      "cell_type": "markdown",
      "source": [
        "## Data Visualization"
      ],
      "metadata": {
        "id": "JhJaHG4gTvuS"
      }
    },
    {
      "cell_type": "code",
      "source": [
        "sns.set()"
      ],
      "metadata": {
        "id": "SvwOgxqmSw2Y"
      },
      "execution_count": null,
      "outputs": []
    },
    {
      "cell_type": "code",
      "source": [
        "#ploting the gender column in countplot\n",
        "sns.countplot(x='Gender', data=calories_data, palette=\"pastel\")\n",
        "plt.title('Gender Count')\n",
        "\n",
        "plt.xlabel = 'Gender'\n",
        "plt.ylabel = \"Count\"\n",
        "plt.show()"
      ],
      "metadata": {
        "id": "pR333xPFSwz4"
      },
      "execution_count": null,
      "outputs": []
    },
    {
      "cell_type": "code",
      "source": [
        "#finding distribution for age column\n",
        "sns.distplot(calories_data['Age'])\n",
        "plt.title('Age Distribution')\n",
        "plt.show()"
      ],
      "metadata": {
        "id": "Kc-h8DHXSwxY"
      },
      "execution_count": null,
      "outputs": []
    },
    {
      "cell_type": "code",
      "source": [
        "#finding distribution fro height column\n",
        "sns.distplot(calories_data['Height'])\n",
        "plt.title('Height Distribution')\n",
        "plt.show()"
      ],
      "metadata": {
        "id": "HRgkaELYSwvS"
      },
      "execution_count": null,
      "outputs": []
    },
    {
      "cell_type": "markdown",
      "source": [],
      "metadata": {
        "id": "UrDI9aM8u4SF"
      }
    },
    {
      "cell_type": "code",
      "source": [
        "#finding distributin for weight column\n",
        "sns.distplot(calories_data['Weight'])\n",
        "plt.title('Weight Distribution')\n",
        "plt.show()"
      ],
      "metadata": {
        "id": "BDaFvetBSwrP"
      },
      "execution_count": null,
      "outputs": []
    },
    {
      "cell_type": "markdown",
      "source": [
        "# Converting Text Data to Numeric\n",
        "\n",
        "**Converting Gender Column Data to Numeric**"
      ],
      "metadata": {
        "id": "0zfaejvfyrb7"
      }
    },
    {
      "cell_type": "code",
      "source": [
        "#encoding data\n",
        "calories_data.replace({'Gender':{'male':0,'female':1}}, inplace=True)"
      ],
      "metadata": {
        "id": "_KOOzEEFSwdY"
      },
      "execution_count": null,
      "outputs": []
    },
    {
      "cell_type": "markdown",
      "source": [
        "# Finding The Correlation of Features\n",
        "**There are two types of Correlation**\n",
        "\n",
        "*   Positive Correlation\n",
        "*   Negative Correlation\n",
        "\n"
      ],
      "metadata": {
        "id": "m2ajZO3bw1E-"
      }
    },
    {
      "cell_type": "code",
      "source": [
        "#correlation\n",
        "\n",
        "correlation = calories_data.corr()"
      ],
      "metadata": {
        "id": "Qy5WZvu8SwoK"
      },
      "execution_count": null,
      "outputs": []
    },
    {
      "cell_type": "code",
      "source": [
        "#displaying correlation\n",
        "plt.figure(figsize=(10,10))\n",
        "sns.heatmap(correlation, cbar=True, square=True, fmt='.1f', annot=True, annot_kws={'size':8}, cmap='Blues')"
      ],
      "metadata": {
        "id": "HkgTjTEnSwi8"
      },
      "execution_count": null,
      "outputs": []
    },
    {
      "cell_type": "markdown",
      "source": [
        "# Feature Engineering\n",
        "**Feature Selection**"
      ],
      "metadata": {
        "id": "c-6OerJ8zp9W"
      }
    },
    {
      "cell_type": "code",
      "source": [
        "#Droping Irrelavent Feature\n",
        "calories_data = calories_data.drop(columns=['User_ID'], axis=1)"
      ],
      "metadata": {
        "id": "MW8jN5Q0SKZ3"
      },
      "execution_count": null,
      "outputs": []
    },
    {
      "cell_type": "markdown",
      "source": [
        "# Separating Feature and Target"
      ],
      "metadata": {
        "id": "Xtyn5gm_M2r5"
      }
    },
    {
      "cell_type": "code",
      "source": [
        "x = calories_data.drop(columns=['Calories'], axis=1)\n",
        "y = calories_data['Calories']"
      ],
      "metadata": {
        "id": "p5EmHcPX0kmI"
      },
      "execution_count": null,
      "outputs": []
    },
    {
      "cell_type": "markdown",
      "source": [
        "# Spliting Data into Training Data and Testing Data"
      ],
      "metadata": {
        "id": "1aWvvOgd0zbT"
      }
    },
    {
      "cell_type": "code",
      "source": [
        "#spliting data\n",
        "x_train, x_test, y_train, y_test = train_test_split(x, y, test_size=0.2, random_state=2)\n",
        "print(x.shape, x_train.shape, x_test.shape)"
      ],
      "metadata": {
        "id": "niFDP8980kjN"
      },
      "execution_count": null,
      "outputs": []
    },
    {
      "cell_type": "markdown",
      "source": [
        "# Model Training\n",
        "**Training XGBRegressor**"
      ],
      "metadata": {
        "id": "7TsRBlDQ1Moq"
      }
    },
    {
      "cell_type": "code",
      "source": [
        "#loading the model\n",
        "model = XGBRegressor()\n"
      ],
      "metadata": {
        "id": "-3vHZl4a0kbG"
      },
      "execution_count": null,
      "outputs": []
    },
    {
      "cell_type": "code",
      "source": [
        "#training the model\n",
        "model.fit(x_train, y_train)"
      ],
      "metadata": {
        "id": "jUlu1NUE1enL"
      },
      "execution_count": null,
      "outputs": []
    },
    {
      "cell_type": "markdown",
      "source": [
        "## **Evaluation**\n",
        "**Prediction on Test Data**"
      ],
      "metadata": {
        "id": "4xRD_dwX156b"
      }
    },
    {
      "cell_type": "code",
      "source": [
        "test_data_prediction = model.predict(x_test)"
      ],
      "metadata": {
        "id": "qItfMgUj1xCZ"
      },
      "execution_count": null,
      "outputs": []
    },
    {
      "cell_type": "code",
      "source": [
        "print(test_data_prediction)"
      ],
      "metadata": {
        "id": "appMmqO31w_a"
      },
      "execution_count": null,
      "outputs": []
    },
    {
      "cell_type": "markdown",
      "source": [
        "# Metrics"
      ],
      "metadata": {
        "id": "nKF77ons2l9O"
      }
    },
    {
      "cell_type": "code",
      "source": [
        "#Mean Absolute Error\n",
        "mae = metrics.mean_absolute_error(y_test, test_data_prediction)\n",
        "print(\"Mean Absolute Error: \", mae)"
      ],
      "metadata": {
        "id": "zZE0hO-02i21"
      },
      "execution_count": null,
      "outputs": []
    },
    {
      "cell_type": "markdown",
      "source": [
        "# Building Prediction System"
      ],
      "metadata": {
        "id": "zbCz3tFx3eqf"
      }
    },
    {
      "cell_type": "code",
      "source": [
        "def get_string_input(prompt):\n",
        "    return input(prompt).strip()\n",
        "\n",
        "def get_integer_input(prompt):\n",
        "    while True:\n",
        "        try:\n",
        "            return int(input(prompt))\n",
        "        except ValueError:\n",
        "            print(\"Invalid input. Please enter an integer.\")\n",
        "\n",
        "def get_float_input(prompt):\n",
        "    while True:\n",
        "        try:\n",
        "            return float(input(prompt))\n",
        "        except ValueError:\n",
        "            print(\"Invalid input. Please enter a float.\")\n",
        "\n",
        "def get_boolean_input(prompt):\n",
        "    while True:\n",
        "        response = input(prompt).strip().lower()\n",
        "        if response in ['male']:\n",
        "            return 0\n",
        "        elif response in ['female']:\n",
        "            return 1\n",
        "        else:\n",
        "            print(\"Invalid input. Please enter 'male' or 'female'.\")\n",
        "\n",
        "# Collecting various types of input from the user\n",
        "\n",
        "age = get_integer_input(\"Enter your age: \")\n",
        "height = get_float_input(\"Enter your height in centi-meters: \")\n",
        "weight = get_float_input(\"Enter your weight in kilograms: \")\n",
        "duration = get_integer_input(\"Enter the duration of the exercise in minutes: \")\n",
        "heart_rate = get_integer_input(\"Enter your heart rate: \")\n",
        "body_temp = get_float_input(\"Enter your body temperature in degrees Celsius: \")\n",
        "Gender = get_boolean_input(\"Gender? (male/female): \")\n",
        "\n",
        "\n",
        "# converting user info as a array\n",
        "\n",
        "input_data = np.array([age, Gender, height, weight, duration, heart_rate, body_temp])\n",
        "print(f\"\\nCollected input array: {input_data}\")\n",
        "\n",
        "#supplying the data to model\n",
        "prediction = model.predict(input_data.reshape(1,-1))\n",
        "print(prediction)\n",
        "\n"
      ],
      "metadata": {
        "id": "mLPkkBEz5B5F"
      },
      "execution_count": null,
      "outputs": []
    },
    {
      "cell_type": "markdown",
      "source": [
        "# Conclusion\n",
        "In conclusion, the development of a machine learning model for predicting calories burned during physical activities represents a significant advancement in the intersection of health, fitness, and technology. This project has effectively demonstrated the utility of data science in providing personalized insights into energy expenditure, thereby empowering individuals to make informed decisions about their fitness regimens and overall health.\n",
        "\n",
        "Key findings and observations from the project include:\n",
        "\n",
        "1. **Data-Driven Outcomes**: By utilizing a diverse dataset that encompasses variables such as age, gender, height, weight, exercise duration, heart rate, and body temperature, the model effectively captures the complex relationships influencing caloric expenditure. This comprehensive approach ensures that the predictions are more reliable and tailored to individual differences.\n",
        "\n",
        "2. **Predictive Modeling Techniques**: The selection of regression models, particularly advanced algorithms such as XGBoost, proved to be effective for capturing non-linear relationships within the data. The model's performance metrics indicated a high level of accuracy in predicting calories burned, validating the application of machine learning in this domain.\n",
        "\n",
        "3. **Practical Applications**: The insights gained from this model can serve various audiences, including fitness enthusiasts, trainers, and healthcare professionals. By understanding caloric burn, users can better manage their weight, optimize their workout routines, and enhance their overall health monitoring efforts.\n",
        "\n",
        "4. **Future Improvements**: While the initial model shows promising results, there are opportunities for further enhancement. Future work could involve expanding the dataset to include a broader array of physical activities, refining feature selection based on additional health metrics, or exploring ensemble methods for improved performance. Furthermore, integrating the model into a user-friendly application could increase accessibility and engagement among users.\n",
        "\n",
        "5. **Health Implications**: Ultimately, the ability to predict calories burned provides individuals with valuable knowledge that supports their health and fitness goals. As awareness of healthy lifestyles continues to grow, tools that leverage machine learning to provide actionable insights will play a crucial role in promoting wellness within communities.\n",
        "\n",
        "Overall, this project not only highlights the power of machine learning in health-related applications but also paves the way for future innovations that can enhance personal fitness and promote healthier living."
      ],
      "metadata": {
        "id": "gFE8fgBE9Bcz"
      }
    },
    {
      "cell_type": "code",
      "source": [],
      "metadata": {
        "id": "3b2TG-CJ8lO7"
      },
      "execution_count": null,
      "outputs": []
    }
  ]
}