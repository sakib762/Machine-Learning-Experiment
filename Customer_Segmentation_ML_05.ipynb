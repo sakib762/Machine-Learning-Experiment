{
  "nbformat": 4,
  "nbformat_minor": 0,
  "metadata": {
    "colab": {
      "private_outputs": true,
      "provenance": [],
      "cell_execution_strategy": "setup",
      "authorship_tag": "ABX9TyPUBUka193R7cuWFdpodueU",
      "include_colab_link": true
    },
    "kernelspec": {
      "name": "python3",
      "display_name": "Python 3"
    },
    "language_info": {
      "name": "python"
    }
  },
  "cells": [
    {
      "cell_type": "markdown",
      "metadata": {
        "id": "view-in-github",
        "colab_type": "text"
      },
      "source": [
        "<a href=\"https://colab.research.google.com/github/sakib762/Machine-Learning-Experiment/blob/main/Customer_Segmentation_ML_05.ipynb\" target=\"_parent\"><img src=\"https://colab.research.google.com/assets/colab-badge.svg\" alt=\"Open In Colab\"/></a>"
      ]
    },
    {
      "cell_type": "markdown",
      "source": [
        "# Importing Depenencies"
      ],
      "metadata": {
        "id": "ZdcrRJ21A6Gl"
      }
    },
    {
      "cell_type": "code",
      "execution_count": null,
      "metadata": {
        "id": "kK00V9aw-yyZ"
      },
      "outputs": [],
      "source": [
        "#Importing Dependencies\n",
        "import pandas as pd\n",
        "import numpy as np\n",
        "import matplotlib.pyplot as plt\n",
        "import seaborn as sns\n",
        "import warnings\n",
        "warnings.filterwarnings('ignore')\n",
        "from sklearn.cluster import KMeans"
      ]
    },
    {
      "cell_type": "markdown",
      "source": [
        "# Data Collection and Analysis"
      ],
      "metadata": {
        "id": "EhM_oosaAzQu"
      }
    },
    {
      "cell_type": "code",
      "source": [
        "#connecting Google Druive\n",
        "from google.colab import drive\n",
        "drive.mount('/content/drive')"
      ],
      "metadata": {
        "id": "rYtUZ-kgBopx"
      },
      "execution_count": null,
      "outputs": []
    },
    {
      "cell_type": "code",
      "source": [
        "#collecting the csv file\n",
        "df = pd.read_csv('/content/drive/MyDrive/database/ML Project Database/Mall_Customers.csv')"
      ],
      "metadata": {
        "id": "6DA8sWsSBoz8"
      },
      "execution_count": null,
      "outputs": []
    },
    {
      "cell_type": "code",
      "source": [
        "df.head()"
      ],
      "metadata": {
        "id": "zwFotGc4BowW"
      },
      "execution_count": null,
      "outputs": []
    },
    {
      "cell_type": "code",
      "source": [
        "df.shape"
      ],
      "metadata": {
        "id": "grMMuKcBC2pv"
      },
      "execution_count": null,
      "outputs": []
    },
    {
      "cell_type": "code",
      "source": [
        "#checking info\n",
        "df.info()"
      ],
      "metadata": {
        "id": "O0cEWDFuC2m1"
      },
      "execution_count": null,
      "outputs": []
    },
    {
      "cell_type": "code",
      "source": [
        "#checking for missing value\n",
        "df.isnull().sum()"
      ],
      "metadata": {
        "id": "oTd7gfXdC2jY"
      },
      "execution_count": null,
      "outputs": []
    },
    {
      "cell_type": "code",
      "source": [
        "#chenging fgender column's value\n",
        "df['Gender'] = df['Gender'].map({'Male':0,'Female':1})"
      ],
      "metadata": {
        "id": "oK5DQLc-C2hm"
      },
      "execution_count": null,
      "outputs": []
    },
    {
      "cell_type": "code",
      "source": [
        "#dropping user id column\n",
        "df.drop('CustomerID',axis=1,inplace=True)"
      ],
      "metadata": {
        "id": "zLMGzU7YRvUk"
      },
      "execution_count": null,
      "outputs": []
    },
    {
      "cell_type": "code",
      "source": [],
      "metadata": {
        "id": "TFSK10gxR2UK"
      },
      "execution_count": null,
      "outputs": []
    },
    {
      "cell_type": "markdown",
      "source": [
        "# Data Visualization"
      ],
      "metadata": {
        "id": "SawK56bEFoWO"
      }
    },
    {
      "cell_type": "code",
      "source": [
        "#data visualizing using histogram and pairplot\n",
        "plt.figure(figsize=(15,5))\n",
        "plt.subplot(1 ,3, 1)\n",
        "sns.histplot(df['Age'])\n",
        "plt.title(\"Age Distribution\")\n",
        "\n",
        "plt.subplot(1 ,3, 2)\n",
        "sns.histplot(df['Annual Income (k$)'])\n",
        "plt.title(\"Annual Income Distribution\")\n",
        "\n",
        "plt.subplot(1 ,3, 3)\n",
        "sns.histplot(df['Spending Score (1-100)'])\n",
        "plt.title(\"Spending Score Distribution\")\n",
        "plt.show()"
      ],
      "metadata": {
        "id": "VKBG3ApMC2Xx"
      },
      "execution_count": null,
      "outputs": []
    },
    {
      "cell_type": "code",
      "source": [
        "df.hist(figsize=(15,15))\n",
        "plt.show()\n",
        "\n",
        "sns.pairplot(df)\n",
        "plt.show()"
      ],
      "metadata": {
        "id": "mj3XOySAC2U3"
      },
      "execution_count": null,
      "outputs": []
    },
    {
      "cell_type": "markdown",
      "source": [
        "# Using K-Means Clustering\n",
        "\n",
        "Using WCSS to see elbow point"
      ],
      "metadata": {
        "id": "WocPNRh9L4qd"
      }
    },
    {
      "cell_type": "code",
      "source": [
        "from sklearn.cluster import KMeans\n",
        "#calculating imertia\n",
        "inertia = []\n",
        "for i in range(1,11):\n",
        "  kmeans = KMeans(n_clusters=i,init='k-means++',random_state=42,)\n",
        "  kmeans.fit(df)\n",
        "  inertia.append(kmeans.inertia_)\n",
        "\n",
        "#ploting for elbow method\n",
        "plt.figure(figsize=(10,5))\n",
        "plt.plot(range(1,11),inertia,marker='o',linestyle='--')\n",
        "plt.title('The Elbow Method')\n",
        "plt.xlabel('Number of Clusters')\n",
        "plt.ylabel('Inertia')\n",
        "plt.show()"
      ],
      "metadata": {
        "id": "Qq_hYEF8C2O2"
      },
      "execution_count": null,
      "outputs": []
    },
    {
      "cell_type": "markdown",
      "source": [
        "**Optimum Number of Clusters is 4**\n",
        "\n"
      ],
      "metadata": {
        "id": "7o_DP3TIP2dq"
      }
    },
    {
      "cell_type": "markdown",
      "source": [
        "# Training The Model"
      ],
      "metadata": {
        "id": "cShddeqlQPRu"
      }
    },
    {
      "cell_type": "code",
      "source": [
        "#training clustering model\n",
        "k_means = KMeans(n_clusters=4,init='k-means++',random_state=42) # Change kmeans to KMeans\n",
        "y_means = k_means.fit_predict(df)\n",
        "#return a label for each datapoit\n",
        "print(y_means) # Change y to y_means. Assumed this is what you intended to print.\n",
        "\n",
        "# Add a 'cluster' column to the DataFrame\n",
        "df['cluster'] = y_means\n",
        "print(df.groupby('cluster').mean())"
      ],
      "metadata": {
        "id": "3bcIQdTOC2Mw"
      },
      "execution_count": null,
      "outputs": []
    },
    {
      "cell_type": "code",
      "source": [
        "#showing plot for the cluster number 4\n",
        "plt.figure(figsize=(10,5))\n",
        "sns.scatterplot(x='Annual Income (k$)',y='Spending Score (1-100)',hue='cluster',data=df)"
      ],
      "metadata": {
        "id": "xTQr7gaWUFJW"
      },
      "execution_count": null,
      "outputs": []
    },
    {
      "source": [
        "#ploting cluster with there centervalue\n",
        "#x='Annual Income (k$)' # x and y were assigned strings, but should be the data itself.\n",
        "#y='Spending Score (1-100)'\n",
        "plt.figure(figsize=(10,5))\n",
        "# Assuming you want to plot clusters based on 'Annual Income (k$)' and 'Spending Score (1-100)' columns:\n",
        "sns.scatterplot(x=df.loc[df['cluster']==0, 'Annual Income (k$)'],\n",
        "                y=df.loc[df['cluster']==0, 'Spending Score (1-100)'],\n",
        "                s=100, c='red', label='Cluster 1')\n",
        "sns.scatterplot(x=df.loc[df['cluster']==1, 'Annual Income (k$)'],\n",
        "                y=df.loc[df['cluster']==1, 'Spending Score (1-100)'],\n",
        "                s=100, c='blue', label='Cluster 2')\n",
        "sns.scatterplot(x=df.loc[df['cluster']==2, 'Annual Income (k$)'],\n",
        "                y=df.loc[df['cluster']==2, 'Spending Score (1-100)'],\n",
        "                s=100, c='green', label='Cluster 3')\n",
        "sns.scatterplot(x=df.loc[df['cluster']==3, 'Annual Income (k$)'],\n",
        "                y=df.loc[df['cluster']==3, 'Spending Score (1-100)'],\n",
        "                s=100, c='yellow', label='Cluster 4')\n"
      ],
      "cell_type": "code",
      "metadata": {
        "id": "0xhk2bd4V0dY"
      },
      "execution_count": null,
      "outputs": []
    },
    {
      "cell_type": "markdown",
      "source": [
        "**Removing Gender and Age column**"
      ],
      "metadata": {
        "id": "owxwuddDSoXj"
      }
    },
    {
      "cell_type": "code",
      "source": [
        "#removing gender and age column\n",
        "df.drop(['Gender','Age'],axis=1,inplace=True)"
      ],
      "metadata": {
        "id": "V8xuqOJFSaCv"
      },
      "execution_count": null,
      "outputs": []
    },
    {
      "cell_type": "code",
      "source": [
        "#calculating WCSS and training model again\n",
        "inertia = []\n",
        "for i in range(1,11):\n",
        "  kmeans = KMeans(n_clusters=i,init='k-means++',random_state=42)\n",
        "  kmeans.fit(df)\n",
        "  inertia.append(kmeans.inertia_)\n",
        "\n",
        "#ploting for elbow method\n",
        "plt.figure(figsize=(10,5))\n",
        "plt.plot(range(1,11),inertia,marker='o',linestyle='--')\n",
        "plt.title('The Elbow Method')\n",
        "plt.xlabel('Number of Clusters')\n",
        "plt.ylabel('Inertia')\n",
        "plt.show()"
      ],
      "metadata": {
        "id": "3-Rvaox3S1I3"
      },
      "execution_count": null,
      "outputs": []
    },
    {
      "cell_type": "markdown",
      "source": [
        "**Now the number of clusters is 5**"
      ],
      "metadata": {
        "id": "fgqaZ6YQTVqZ"
      }
    },
    {
      "cell_type": "code",
      "source": [
        "#training clustering model\n",
        "k_means = KMeans(n_clusters=5,init='k-means++',random_state=42) # Change kmeans to KMeans\n",
        "y_means = k_means.fit_predict(df)\n",
        "#return a label for each datapoit\n",
        "print(y_means) # Change y to y_means. Assumed this is what you intended to print.\n",
        "\n",
        "# Add a 'cluster' column to the DataFrame\n",
        "df['cluster'] = y_means\n",
        "print(df.groupby('cluster').mean())"
      ],
      "metadata": {
        "id": "cWNmLDOYTfTg"
      },
      "execution_count": null,
      "outputs": []
    },
    {
      "cell_type": "code",
      "source": [
        "#ploting cluster with there centervalue\n",
        "#x='Annual Income (k$)' # x and y were assigned strings, but should be the data itself.\n",
        "#y='Spending Score (1-100)'\n",
        "plt.figure(figsize=(10,5))\n",
        "# Assuming you want to plot clusters based on 'Annual Income (k$)' and 'Spending Score (1-100)' columns:\n",
        "sns.scatterplot(x=df.loc[df['cluster']==0, 'Annual Income (k$)'],\n",
        "                y=df.loc[df['cluster']==0, 'Spending Score (1-100)'],\n",
        "                s=100, c='red', label='Cluster 1')\n",
        "sns.scatterplot(x=df.loc[df['cluster']==1, 'Annual Income (k$)'],\n",
        "                y=df.loc[df['cluster']==1, 'Spending Score (1-100)'],\n",
        "                s=100, c='blue', label='Cluster 2')\n",
        "sns.scatterplot(x=df.loc[df['cluster']==2, 'Annual Income (k$)'],\n",
        "                y=df.loc[df['cluster']==2, 'Spending Score (1-100)'],\n",
        "                s=100, c='green', label='Cluster 3')\n",
        "sns.scatterplot(x=df.loc[df['cluster']==3, 'Annual Income (k$)'],\n",
        "                y=df.loc[df['cluster']==3, 'Spending Score (1-100)'],\n",
        "                s=100, c='yellow', label='Cluster 4')\n",
        "sns.scatterplot(x=df.loc[df['cluster']==4, 'Annual Income (k$)'],\n",
        "                y=df.loc[df['cluster']==4, 'Spending Score (1-100)'],\n",
        "                s=100, c='orange', label='Cluster 5')\n"
      ],
      "metadata": {
        "id": "BbNiaEKHWOjW"
      },
      "execution_count": null,
      "outputs": []
    },
    {
      "cell_type": "markdown",
      "source": [
        "# using silhouette scores for validation"
      ],
      "metadata": {
        "id": "svX5FArbcv1W"
      }
    },
    {
      "source": [
        "from sklearn.metrics import silhouette_score\n",
        "# Calculate the Silhouette score\n",
        "silhouette_avg = silhouette_score(df[['Annual Income (k$)', 'Spending Score (1-100)']], df['cluster'])\n",
        "\n",
        "print(f\"Silhouette Score: {silhouette_avg}\")"
      ],
      "cell_type": "code",
      "metadata": {
        "id": "3E7W_ipcdKHe"
      },
      "execution_count": null,
      "outputs": []
    }
  ]
}