{
  "nbformat": 4,
  "nbformat_minor": 0,
  "metadata": {
    "colab": {
      "private_outputs": true,
      "provenance": [],
      "authorship_tag": "ABX9TyNzSLGjiTjk+8mPKpZHlvK5",
      "include_colab_link": true
    },
    "kernelspec": {
      "name": "python3",
      "display_name": "Python 3"
    },
    "language_info": {
      "name": "python"
    }
  },
  "cells": [
    {
      "cell_type": "markdown",
      "metadata": {
        "id": "view-in-github",
        "colab_type": "text"
      },
      "source": [
        "<a href=\"https://colab.research.google.com/github/sakib762/Machine-Learning-Experiment/blob/main/Air_Quality_Forecasting_ML_04.ipynb\" target=\"_parent\"><img src=\"https://colab.research.google.com/assets/colab-badge.svg\" alt=\"Open In Colab\"/></a>"
      ]
    },
    {
      "cell_type": "markdown",
      "source": [
        "\n",
        "# Importing Dependencies\n",
        "\n",
        "\n",
        "\n",
        "\n",
        "\n",
        "\n"
      ],
      "metadata": {
        "id": "iQGWh5qvbTtx"
      }
    },
    {
      "cell_type": "code",
      "execution_count": null,
      "metadata": {
        "id": "IMALw_-BbKMY"
      },
      "outputs": [],
      "source": [
        "#importing neccessary staff\n",
        "import pandas as pd\n",
        "import numpy as np\n",
        "import matplotlib.pyplot as plt\n",
        "import seaborn as sns\n",
        "import warnings\n",
        "warnings.filterwarnings('ignore')"
      ]
    },
    {
      "cell_type": "markdown",
      "source": [
        "# Data Collection"
      ],
      "metadata": {
        "id": "9EBH3olzb5nM"
      }
    },
    {
      "cell_type": "code",
      "source": [
        "from google.colab import drive\n",
        "drive.mount('/content/drive')"
      ],
      "metadata": {
        "id": "HeHh2bZYboz0"
      },
      "execution_count": null,
      "outputs": []
    },
    {
      "cell_type": "code",
      "source": [
        "df = pd.read_csv('/content/drive/MyDrive/database/ML Project Database/AirQualityUCI.csv')"
      ],
      "metadata": {
        "id": "6dwXwkukb_7K"
      },
      "execution_count": null,
      "outputs": []
    },
    {
      "cell_type": "code",
      "source": [
        "df.head()"
      ],
      "metadata": {
        "id": "AWAadhWXcKfv"
      },
      "execution_count": null,
      "outputs": []
    },
    {
      "cell_type": "markdown",
      "source": [
        "**All the value in the csv file are separated by \";\"**\n",
        "\n",
        "few column have comma in the place of decimal point\n"
      ],
      "metadata": {
        "id": "FYQBsuNfdvso"
      }
    },
    {
      "cell_type": "code",
      "source": [
        "df = pd.read_csv('/content/drive/MyDrive/database/ML Project Database/AirQualityUCI.csv',sep=';')\n",
        "df"
      ],
      "metadata": {
        "id": "LtRydDsecTBN"
      },
      "execution_count": null,
      "outputs": []
    },
    {
      "cell_type": "markdown",
      "source": [
        "# Removing Unneccessary Column\n"
      ],
      "metadata": {
        "id": "kokCYsLqeeF5"
      }
    },
    {
      "cell_type": "code",
      "source": [
        "#removing the last two column\n",
        "df.drop(['Unnamed: 15','Unnamed: 16'],axis=1,inplace=True)"
      ],
      "metadata": {
        "id": "HikJdKkVcg_f"
      },
      "execution_count": null,
      "outputs": []
    },
    {
      "cell_type": "code",
      "source": [
        "df.head()"
      ],
      "metadata": {
        "id": "EoGlreikcg7s"
      },
      "execution_count": null,
      "outputs": []
    },
    {
      "cell_type": "code",
      "source": [
        "df.tail()"
      ],
      "metadata": {
        "id": "btBHuPDFcg59"
      },
      "execution_count": null,
      "outputs": []
    },
    {
      "cell_type": "markdown",
      "source": [
        "# Data Analysis and Processing"
      ],
      "metadata": {
        "id": "kL_2APc-e_Gp"
      }
    },
    {
      "cell_type": "code",
      "source": [
        "df.shape"
      ],
      "metadata": {
        "id": "p1JbQyrBcg3S"
      },
      "execution_count": null,
      "outputs": []
    },
    {
      "cell_type": "markdown",
      "source": [
        "Locating Last Data Point"
      ],
      "metadata": {
        "id": "NhBU0r0sfkq9"
      }
    },
    {
      "cell_type": "code",
      "source": [
        "df.iloc[9356]"
      ],
      "metadata": {
        "id": "mghuXDkFcg0k"
      },
      "execution_count": null,
      "outputs": []
    },
    {
      "cell_type": "code",
      "source": [
        "df.iloc[9357]"
      ],
      "metadata": {
        "id": "ELnVTLNbcgxQ"
      },
      "execution_count": null,
      "outputs": []
    },
    {
      "cell_type": "code",
      "source": [
        "#taking first 9356th row for the dataframe\n",
        "df = df.iloc[:9357,:]"
      ],
      "metadata": {
        "id": "BMu9GV2fcgvr"
      },
      "execution_count": null,
      "outputs": []
    },
    {
      "cell_type": "code",
      "source": [
        "df.tail()"
      ],
      "metadata": {
        "id": "7cN067sqcgoJ"
      },
      "execution_count": null,
      "outputs": []
    },
    {
      "cell_type": "code",
      "source": [
        "df.shape"
      ],
      "metadata": {
        "id": "t00REtregnIP"
      },
      "execution_count": null,
      "outputs": []
    },
    {
      "cell_type": "code",
      "source": [
        "#getiing some info of the dataset\n",
        "df.info()"
      ],
      "metadata": {
        "id": "cbpLus6dgnEd"
      },
      "execution_count": null,
      "outputs": []
    },
    {
      "cell_type": "code",
      "source": [
        "#seeing statistical data\n",
        "df.describe()"
      ],
      "metadata": {
        "id": "RYyY3ZMagnBH"
      },
      "execution_count": null,
      "outputs": []
    },
    {
      "cell_type": "code",
      "source": [
        "#looking for null or missing in df\n",
        "df.isnull().sum()"
      ],
      "metadata": {
        "id": "5mbjWyMFgm-z"
      },
      "execution_count": null,
      "outputs": []
    },
    {
      "cell_type": "markdown",
      "source": [
        "# Missing Value Labeled as \"-200\"\n",
        "This shows that there is no missing value in the dataframe, But actual missing values are tagged with the value \"-200\"\n",
        "\n",
        "**This is Described in UCI repository documentation**"
      ],
      "metadata": {
        "id": "KjIyP7mehdpq"
      }
    },
    {
      "cell_type": "code",
      "source": [
        "#counting the number of times \"-200\" appears in the data\n",
        "df.isin([-200]).sum()"
      ],
      "metadata": {
        "id": "VGA9EipbhT0U"
      },
      "execution_count": null,
      "outputs": []
    },
    {
      "cell_type": "markdown",
      "source": [
        "# Handling Missing values\n",
        "\n",
        "Convert every -200 to NaN value\n",
        "\n",
        "And Replace all NaN values with mean of that specific column"
      ],
      "metadata": {
        "id": "sSahjQ6Qi5_b"
      }
    },
    {
      "cell_type": "code",
      "source": [
        "#converting -200 to NaN value\n",
        "df.replace(-200,np.nan,inplace=True)"
      ],
      "metadata": {
        "id": "Gzc2zkhRhTwg"
      },
      "execution_count": null,
      "outputs": []
    },
    {
      "cell_type": "code",
      "source": [
        "df.isin([-200]).sum()"
      ],
      "metadata": {
        "id": "Fc71qh06hTuT"
      },
      "execution_count": null,
      "outputs": []
    },
    {
      "cell_type": "code",
      "source": [
        "df.isin([np.nan]).sum()"
      ],
      "metadata": {
        "id": "ZBFz9VN9hTqr"
      },
      "execution_count": null,
      "outputs": []
    },
    {
      "cell_type": "code",
      "source": [
        "df.tail()"
      ],
      "metadata": {
        "id": "yhKm1eVahToj"
      },
      "execution_count": null,
      "outputs": []
    },
    {
      "cell_type": "code",
      "source": [
        "\n",
        "df['Time'] = pd.to_datetime(df['Time'], format='%H.%M.%S', errors='coerce').dt.time"
      ],
      "metadata": {
        "id": "xnKADHpfhTk5"
      },
      "execution_count": null,
      "outputs": []
    },
    {
      "cell_type": "code",
      "source": [
        "df.head()"
      ],
      "metadata": {
        "id": "qltQCIBihTi8"
      },
      "execution_count": null,
      "outputs": []
    },
    {
      "cell_type": "code",
      "source": [
        "numeric_features = df.select_dtypes(include=np.number)\n",
        "\n",
        "# Calculate the mean of the numerical features\n",
        "means = numeric_features.mean()\n",
        "\n",
        "print(means)"
      ],
      "metadata": {
        "id": "nfjx_QJMmA5p"
      },
      "execution_count": null,
      "outputs": []
    },
    {
      "cell_type": "code",
      "source": [
        "df = df.fillna(means)"
      ],
      "metadata": {
        "id": "-DYGpnItmPz5"
      },
      "execution_count": null,
      "outputs": []
    },
    {
      "cell_type": "code",
      "source": [
        "df"
      ],
      "metadata": {
        "id": "VEkYyzicmWoQ"
      },
      "execution_count": null,
      "outputs": []
    },
    {
      "cell_type": "markdown",
      "source": [
        "# Two Tasks can be Performed on this Dataset\n",
        "\n",
        "\n",
        "*   Forecasting\n",
        "*   Regression\n",
        "\n"
      ],
      "metadata": {
        "id": "53hEVRJynPOa"
      }
    },
    {
      "cell_type": "markdown",
      "source": [
        "**Forecasting with FB Prophet Algorithm**"
      ],
      "metadata": {
        "id": "9szs0jNQoBbN"
      }
    },
    {
      "cell_type": "code",
      "source": [
        "#converting the date to YYYY-MM-DD\n",
        "df['Date'] = pd.to_datetime(df['Date'], format='%d/%m/%Y').dt.strftime('%Y-%m-%d')"
      ],
      "metadata": {
        "id": "uERa00MVnhew"
      },
      "execution_count": null,
      "outputs": []
    },
    {
      "cell_type": "code",
      "source": [
        "df"
      ],
      "metadata": {
        "id": "Yn_6q0SypL4M"
      },
      "execution_count": null,
      "outputs": []
    },
    {
      "cell_type": "code",
      "source": [
        "#creating variable for time info to cnage it\n",
        "time = df['Time']"
      ],
      "metadata": {
        "id": "dIXJVtgtpV5J"
      },
      "execution_count": null,
      "outputs": []
    },
    {
      "cell_type": "code",
      "source": [
        "print(time)"
      ],
      "metadata": {
        "id": "i5b4XrQGpnvG"
      },
      "execution_count": null,
      "outputs": []
    },
    {
      "cell_type": "code",
      "source": [
        "#combining two series to a panda dataframe\n",
        "\n",
        "date_time = pd.concat([df[\"Date\"],df[\"Time\"]],axis=1)\n",
        "print(date_time)"
      ],
      "metadata": {
        "id": "aYokm7AEpwqh"
      },
      "execution_count": null,
      "outputs": []
    },
    {
      "cell_type": "code",
      "source": [
        "#combining date and time\n",
        "date_time[\"ds\"] = date_time['Date'].astype(str) + ' ' + date_time['Time'].astype(str)"
      ],
      "metadata": {
        "id": "vuj-Qoryq9cW"
      },
      "execution_count": null,
      "outputs": []
    },
    {
      "cell_type": "code",
      "source": [
        "date_time"
      ],
      "metadata": {
        "id": "ZSH4v3DfraG1"
      },
      "execution_count": null,
      "outputs": []
    },
    {
      "cell_type": "markdown",
      "source": [
        "**Changing DS column type to Date-Time**"
      ],
      "metadata": {
        "id": "DhsGOEC8r1mi"
      }
    },
    {
      "cell_type": "code",
      "source": [
        "data = pd.DataFrame()\n",
        "#converting ds column to date-time type\n",
        "data['ds'] = pd.to_datetime(date_time['ds'])"
      ],
      "metadata": {
        "id": "z_b_KRcKraD7"
      },
      "execution_count": null,
      "outputs": []
    },
    {
      "cell_type": "code",
      "source": [
        "data"
      ],
      "metadata": {
        "id": "bi7jFqNMsJvp"
      },
      "execution_count": null,
      "outputs": []
    },
    {
      "cell_type": "code",
      "source": [
        "data[\"y\"] = df[\"RH\"]\n",
        "data[\"y\"] = pd.to_numeric(data[\"y\"].str.replace(',', '.'))\n",
        "data"
      ],
      "metadata": {
        "id": "o3Q2xgeusJjI"
      },
      "execution_count": null,
      "outputs": []
    },
    {
      "cell_type": "code",
      "source": [],
      "metadata": {
        "id": "vWZj6wnUx-NN"
      },
      "execution_count": null,
      "outputs": []
    },
    {
      "cell_type": "code",
      "source": [
        "import matplotlib.pyplot as plt\n",
        "import seaborn as sns\n",
        "\n",
        "# Convert 'Time' column to total seconds since midnight\n",
        "# This represents time as a numeric value\n",
        "df['Time_Seconds'] = df['Time'].apply(lambda x: x.hour * 3600 + x.minute * 60 + x.second)\n",
        "\n",
        "# Drop the original 'Time' column and other non-numeric columns\n",
        "numeric_df = df.select_dtypes(include=np.number).drop(columns=['Time_Seconds'])  # Exclude 'Time_Seconds' for correlation\n",
        "\n",
        "# Now calculate and plot the correlation heatmap\n",
        "plt.figure(figsize=(10, 6))\n",
        "sns.heatmap(numeric_df.corr(), annot=True, cmap=\"coolwarm\", fmt=\".2f\")\n",
        "plt.title(\"Feature Correlation Heatmap\")\n",
        "plt.show()"
      ],
      "metadata": {
        "id": "04ZU4_6Px66N"
      },
      "execution_count": null,
      "outputs": []
    },
    {
      "cell_type": "code",
      "source": [
        "import matplotlib.pyplot as plt\n",
        "import seaborn as sns\n",
        "\n",
        "# Line plot to visualize trends over time\n",
        "plt.figure(figsize=(12, 5))\n",
        "plt.plot(pd.to_datetime(df[\"Date\"]), df[\"RH\"], label=\"Humidity (RH)\")\n",
        "plt.xlabel(\"Date\")\n",
        "plt.ylabel(\"Relative Humidity\")\n",
        "plt.title(\"Humidity Trend Over Time\")\n",
        "plt.legend()\n",
        "plt.show()\n",
        "\n",
        "# Distribution of a selected feature\n",
        "plt.figure(figsize=(8, 4))\n",
        "sns.histplot(df[\"RH\"], bins=30, kde=True)\n",
        "plt.title(\"Distribution of Humidity Levels\")\n",
        "plt.show()\n",
        "\n",
        "\n"
      ],
      "metadata": {
        "id": "3_p_llwtyEcm"
      },
      "execution_count": null,
      "outputs": []
    },
    {
      "cell_type": "markdown",
      "source": [
        "# Model Implementation"
      ],
      "metadata": {
        "id": "aKXwob9ctoum"
      }
    },
    {
      "cell_type": "code",
      "source": [
        "#installing Prophet model\n",
        "!pip install prophet"
      ],
      "metadata": {
        "id": "umy-U-dpthjC"
      },
      "execution_count": null,
      "outputs": []
    },
    {
      "cell_type": "code",
      "source": [
        "from prophet import Prophet"
      ],
      "metadata": {
        "id": "i2YwcZ4RthgS"
      },
      "execution_count": null,
      "outputs": []
    },
    {
      "cell_type": "code",
      "source": [
        "model = Prophet()\n",
        "model.fit(data)\n",
        "future = model.make_future_dataframe(periods=365)\n",
        "forecast = model.predict(future)\n",
        "model.plot(forecast)\n",
        "plt.show()\n",
        "model.plot_components(forecast)\n",
        "plt.show()"
      ],
      "metadata": {
        "id": "qoqpt2w5thdv"
      },
      "execution_count": null,
      "outputs": []
    },
    {
      "cell_type": "code",
      "source": [
        "future = model.make_future_dataframe(periods=365, freq=\"H\")\n",
        "forecast = model.predict(future)\n",
        "future.tail()"
      ],
      "metadata": {
        "id": "nJsquqOfvI3s"
      },
      "execution_count": null,
      "outputs": []
    },
    {
      "cell_type": "code",
      "source": [
        "forecast = model.predict(future)\n",
        "forecast[['ds', 'yhat', 'yhat_lower', 'yhat_upper']].tail()"
      ],
      "metadata": {
        "id": "EzI9-076vri2"
      },
      "execution_count": null,
      "outputs": []
    },
    {
      "cell_type": "code",
      "source": [
        "#showing plot\n",
        "fig1 = model.plot(forecast)"
      ],
      "metadata": {
        "id": "-OdwRycmwCOW"
      },
      "execution_count": null,
      "outputs": []
    },
    {
      "cell_type": "code",
      "source": [
        "fig2 = model.plot_components(forecast)"
      ],
      "metadata": {
        "id": "8EagnMS0wPna"
      },
      "execution_count": null,
      "outputs": []
    },
    {
      "cell_type": "code",
      "source": [
        "from sklearn.metrics import mean_absolute_error, mean_squared_error\n",
        "import numpy as np\n",
        "\n",
        "# Extract actual and predicted values\n",
        "actual_values = data[\"y\"]  # True values\n",
        "predicted_values = forecast[\"yhat\"][:len(actual_values)]  # Predicted values\n",
        "\n",
        "# Compute error metrics\n",
        "mae = mean_absolute_error(actual_values, predicted_values)\n",
        "rmse = np.sqrt(mean_squared_error(actual_values, predicted_values))\n",
        "\n",
        "print(f\"Mean Absolute Error (MAE): {mae:.2f}\")\n",
        "print(f\"Root Mean Squared Error (RMSE): {rmse:.2f}\")\n"
      ],
      "metadata": {
        "id": "SqcdEx0my2zu"
      },
      "execution_count": null,
      "outputs": []
    }
  ]
}